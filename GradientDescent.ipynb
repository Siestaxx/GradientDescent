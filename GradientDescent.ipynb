{
 "cells": [
  {
   "cell_type": "code",
   "execution_count": 1,
   "id": "239f681e",
   "metadata": {},
   "outputs": [
    {
     "data": {
      "text/html": [
       "<div>\n",
       "<style scoped>\n",
       "    .dataframe tbody tr th:only-of-type {\n",
       "        vertical-align: middle;\n",
       "    }\n",
       "\n",
       "    .dataframe tbody tr th {\n",
       "        vertical-align: top;\n",
       "    }\n",
       "\n",
       "    .dataframe thead th {\n",
       "        text-align: right;\n",
       "    }\n",
       "</style>\n",
       "<table border=\"1\" class=\"dataframe\">\n",
       "  <thead>\n",
       "    <tr style=\"text-align: right;\">\n",
       "      <th></th>\n",
       "      <th>MedInc</th>\n",
       "      <th>HouseAge</th>\n",
       "      <th>AveRooms</th>\n",
       "      <th>AveBedrms</th>\n",
       "      <th>Population</th>\n",
       "      <th>AveOccup</th>\n",
       "      <th>Latitude</th>\n",
       "      <th>Longitude</th>\n",
       "      <th>MedHouseVal</th>\n",
       "    </tr>\n",
       "  </thead>\n",
       "  <tbody>\n",
       "    <tr>\n",
       "      <th>0</th>\n",
       "      <td>8.3252</td>\n",
       "      <td>41.0</td>\n",
       "      <td>6.984127</td>\n",
       "      <td>1.023810</td>\n",
       "      <td>322.0</td>\n",
       "      <td>2.555556</td>\n",
       "      <td>37.88</td>\n",
       "      <td>-122.23</td>\n",
       "      <td>4.526</td>\n",
       "    </tr>\n",
       "    <tr>\n",
       "      <th>1</th>\n",
       "      <td>8.3014</td>\n",
       "      <td>21.0</td>\n",
       "      <td>6.238137</td>\n",
       "      <td>0.971880</td>\n",
       "      <td>2401.0</td>\n",
       "      <td>2.109842</td>\n",
       "      <td>37.86</td>\n",
       "      <td>-122.22</td>\n",
       "      <td>3.585</td>\n",
       "    </tr>\n",
       "    <tr>\n",
       "      <th>2</th>\n",
       "      <td>7.2574</td>\n",
       "      <td>52.0</td>\n",
       "      <td>8.288136</td>\n",
       "      <td>1.073446</td>\n",
       "      <td>496.0</td>\n",
       "      <td>2.802260</td>\n",
       "      <td>37.85</td>\n",
       "      <td>-122.24</td>\n",
       "      <td>3.521</td>\n",
       "    </tr>\n",
       "    <tr>\n",
       "      <th>3</th>\n",
       "      <td>5.6431</td>\n",
       "      <td>52.0</td>\n",
       "      <td>5.817352</td>\n",
       "      <td>1.073059</td>\n",
       "      <td>558.0</td>\n",
       "      <td>2.547945</td>\n",
       "      <td>37.85</td>\n",
       "      <td>-122.25</td>\n",
       "      <td>3.413</td>\n",
       "    </tr>\n",
       "    <tr>\n",
       "      <th>4</th>\n",
       "      <td>3.8462</td>\n",
       "      <td>52.0</td>\n",
       "      <td>6.281853</td>\n",
       "      <td>1.081081</td>\n",
       "      <td>565.0</td>\n",
       "      <td>2.181467</td>\n",
       "      <td>37.85</td>\n",
       "      <td>-122.25</td>\n",
       "      <td>3.422</td>\n",
       "    </tr>\n",
       "  </tbody>\n",
       "</table>\n",
       "</div>"
      ],
      "text/plain": [
       "   MedInc  HouseAge  AveRooms  AveBedrms  Population  AveOccup  Latitude  \\\n",
       "0  8.3252      41.0  6.984127   1.023810       322.0  2.555556     37.88   \n",
       "1  8.3014      21.0  6.238137   0.971880      2401.0  2.109842     37.86   \n",
       "2  7.2574      52.0  8.288136   1.073446       496.0  2.802260     37.85   \n",
       "3  5.6431      52.0  5.817352   1.073059       558.0  2.547945     37.85   \n",
       "4  3.8462      52.0  6.281853   1.081081       565.0  2.181467     37.85   \n",
       "\n",
       "   Longitude  MedHouseVal  \n",
       "0    -122.23        4.526  \n",
       "1    -122.22        3.585  \n",
       "2    -122.24        3.521  \n",
       "3    -122.25        3.413  \n",
       "4    -122.25        3.422  "
      ]
     },
     "execution_count": 1,
     "metadata": {},
     "output_type": "execute_result"
    }
   ],
   "source": [
    "#Question3.\n",
    "import matplotlib.pyplot as plt\n",
    "from sklearn.datasets import fetch_california_housing\n",
    "import numpy as np\n",
    "california_housing = fetch_california_housing(as_frame=True)\n",
    "DF = california_housing.frame\n",
    "DF.head()"
   ]
  },
  {
   "cell_type": "code",
   "execution_count": 2,
   "id": "9255650f",
   "metadata": {},
   "outputs": [],
   "source": [
    "#b. Choose the following features from the dataset as your X matrix: MedInc,HouseAge, AveRooms,\n",
    "# AveBedrms, Population, AveOccup, Latitude, Longitude\n",
    "X = DF[['MedInc','HouseAge','AveRooms','AveBedrms','Population','AveOccup','Latitude','Longitude']].values "
   ]
  },
  {
   "cell_type": "code",
   "execution_count": 3,
   "id": "38ae8634",
   "metadata": {},
   "outputs": [],
   "source": [
    "#c. Choose the following feature from the dataset as your Y matrix: MedHouseVal\n",
    "Y = DF[['MedHouseVal']].values"
   ]
  },
  {
   "cell_type": "code",
   "execution_count": 4,
   "id": "8b26ce39",
   "metadata": {},
   "outputs": [],
   "source": [
    "#d. Apply 0 – 1 normalization on X and Y\n",
    "from sklearn.preprocessing import MinMaxScaler\n",
    " \n",
    "scaler=MinMaxScaler()\n",
    "X=scaler.fit_transform(X)\n",
    "Y=scaler.fit_transform(Y)"
   ]
  },
  {
   "cell_type": "code",
   "execution_count": 5,
   "id": "459e6e1b",
   "metadata": {},
   "outputs": [],
   "source": [
    "#e. Randomly split your data into training (70% of total) and test sets (30% of total)\n",
    "#by using sklearn’s train_test_split function. Set random_state = 265:\n",
    "from sklearn.model_selection import train_test_split\n",
    "X_train, X_test, Y_train, Y_test = train_test_split(X, Y, test_size=0.3, random_state=265)"
   ]
  },
  {
   "cell_type": "code",
   "execution_count": 6,
   "id": "bf00a37d",
   "metadata": {},
   "outputs": [],
   "source": [
    "#f. Set the number_of_steps = 1000 and learning_rate = 0.01\n",
    "number_of_steps = 1000\n",
    "learning_rate = 0.01"
   ]
  },
  {
   "cell_type": "code",
   "execution_count": 7,
   "id": "54e5ec35",
   "metadata": {},
   "outputs": [],
   "source": [
    "#a. Implement the gradient descent algorithm from scratch\n",
    "#g. By running your code, determine the best set of parameters (=weights) for the constant\n",
    "#and your features listed in b). Your cost function will be MSE (=you should\n",
    "#pick the set of parameters that give you the lowest MSE).\n",
    "weight_vector=np.random.randn(X.shape[1])\n",
    "intercept=0\n",
    "learning_rate = 0.01"
   ]
  },
  {
   "cell_type": "code",
   "execution_count": 8,
   "id": "eda9d3f8",
   "metadata": {},
   "outputs": [],
   "source": [
    "#MSE loss function\n",
    "def loss(Y,Y_predicted):\n",
    "    n=len(Y)\n",
    "    s=0\n",
    "    for i in range(n):\n",
    "        s+=(Y[i]-Y_predicted[i])**2\n",
    "    return (1/n)*s"
   ]
  },
  {
   "cell_type": "code",
   "execution_count": 9,
   "id": "87fbbcd6",
   "metadata": {},
   "outputs": [],
   "source": [
    "#wx+b\n",
    "def predicted_Y(weight,X,intercept):\n",
    "    Y_lst=[]\n",
    "    for i in range(len(X)):\n",
    "        Y_lst.append(weight@X[i]+intercept) \n",
    "    return np.array(Y_lst)"
   ]
  },
  {
   "cell_type": "code",
   "execution_count": 10,
   "id": "d9dbd246",
   "metadata": {},
   "outputs": [],
   "source": [
    "#derivative of loss w.r.t weight\n",
    "def dldw(X,Y,Y_predicted):\n",
    "    s=0\n",
    "    n=len(Y)\n",
    "    for i in range(n):\n",
    "        s+=-X[i]*(Y[i]-Y_predicted[i])\n",
    "    return (2/n)*s"
   ]
  },
  {
   "cell_type": "code",
   "execution_count": 11,
   "id": "529fd281",
   "metadata": {},
   "outputs": [],
   "source": [
    "# derivative of loss w.r.t bias\n",
    "def dldb(Y,Y_predicted):\n",
    "    n=len(Y)\n",
    "    s=0\n",
    "    for i in range(len(Y)):\n",
    "        s+=-(Y[i]-Y_predicted[i])\n",
    "    return (2/n) * s"
   ]
  },
  {
   "cell_type": "code",
   "execution_count": 12,
   "id": "b0823164",
   "metadata": {},
   "outputs": [],
   "source": [
    "def gradient_descent(X,Y):\n",
    "    weight_vector=np.zeros(X.shape[1])\n",
    "    intercept=0\n",
    "    epoch = 1000 #1000 iters\n",
    "    n = len(X)\n",
    "    linear_loss=[]\n",
    "    learning_rate = 0.01\n",
    "\n",
    "    for i in range(epoch):\n",
    "        \n",
    "        \n",
    "        Y_predicted = predicted_Y(weight_vector,X,intercept)\n",
    "        \n",
    "        weight_vector = weight_vector - learning_rate *dldw(X,Y,Y_predicted) #update weight\n",
    "        \n",
    "        \n",
    "        intercept = intercept - learning_rate * dldb(Y,Y_predicted) #update bias\n",
    "        linear_loss.append(loss(Y,Y_predicted))\n",
    "        \n",
    "    plt.plot(np.arange(1,epoch),linear_loss[1:])\n",
    "    plt.xlabel(\"number of epoch\")\n",
    "    plt.ylabel(\"loss\")\n",
    "    \n",
    "    return weight_vector,intercept\n",
    "    "
   ]
  },
  {
   "cell_type": "code",
   "execution_count": 13,
   "id": "63d8a5ff",
   "metadata": {},
   "outputs": [
    {
     "name": "stdout",
     "output_type": "stream",
     "text": [
      "weight: [ 0.41305349  0.12337078  0.01837195  0.00315099  0.00937567 -0.00078145\n",
      " -0.02793103  0.0340772 ]\n",
      "intercept: [0.22459396]\n"
     ]
    },
    {
     "data": {
      "image/png": "[encoded data removed]",
      "text/plain": [
       "<Figure size 432x288 with 1 Axes>"
      ]
     },
     "metadata": {
      "needs_background": "light"
     },
     "output_type": "display_data"
    }
   ],
   "source": [
    "w,b=gradient_descent(X_train,Y_train)\n",
    "print(\"weight:\",w)\n",
    "print(\"intercept:\",b)"
   ]
  },
  {
   "cell_type": "code",
   "execution_count": 14,
   "id": "e3b5b5ed",
   "metadata": {},
   "outputs": [],
   "source": [
    "#h.the weights are [ 0.41305349  0.12337078  0.01837195  0.00315099  0.00937567 -0.00078145\n",
    "# -0.02793103  0.0340772 ]\n",
    "# and the intercept is 0.22459396\n",
    "# Since we (0,1) normalized our data, the factor that explain the house price the most should be the one with the \n",
    "# maximum absolute value of weight, which is MedInc"
   ]
  },
  {
   "cell_type": "code",
   "execution_count": 15,
   "id": "4c56cea5",
   "metadata": {},
   "outputs": [
    {
     "name": "stderr",
     "output_type": "stream",
     "text": [
      "/Users/yiweihan/opt/anaconda3/lib/python3.8/site-packages/sklearn/utils/validation.py:63: DataConversionWarning: A column-vector y was passed when a 1d array was expected. Please change the shape of y to (n_samples, ), for example using ravel().\n",
      "  return f(*args, **kwargs)\n"
     ]
    }
   ],
   "source": [
    "#Question4.\n",
    "#c\n",
    "from sklearn.linear_model import SGDRegressor\n",
    "clf = SGDRegressor(max_iter=1000, alpha = 0.01, random_state = 265)\n",
    "clf.fit(X_train, Y_train)\n",
    "y_pred = clf.predict(X_test)"
   ]
  },
  {
   "cell_type": "code",
   "execution_count": 16,
   "id": "56947d36",
   "metadata": {},
   "outputs": [
    {
     "data": {
      "text/plain": [
       "array([0.27986693])"
      ]
     },
     "execution_count": 16,
     "metadata": {},
     "output_type": "execute_result"
    }
   ],
   "source": [
    "#d\n",
    "clf.intercept_"
   ]
  },
  {
   "cell_type": "code",
   "execution_count": 17,
   "id": "1c7500b6",
   "metadata": {},
   "outputs": [
    {
     "data": {
      "text/plain": [
       "array([ 0.74289115,  0.12123235,  0.02459013,  0.00144189,  0.00494056,\n",
       "       -0.00390117, -0.17298551, -0.13952611])"
      ]
     },
     "execution_count": 17,
     "metadata": {},
     "output_type": "execute_result"
    }
   ],
   "source": [
    "clf.coef_"
   ]
  },
  {
   "cell_type": "code",
   "execution_count": 18,
   "id": "1da9d965",
   "metadata": {},
   "outputs": [],
   "source": [
    "#e.the weights are [ 0.74289115,  0.12123235,  0.02459013,  0.00144189,  0.00494056,\n",
    "#       -0.00390117, -0.17298551, -0.13952611]\n",
    "# and the intercept is 0.27986693\n",
    "# Since we (0,1) normalized our data, the factor that explain the house price the most should be the one with the \n",
    "# maximum absolute value of weight, which is MedInc\n",
    "# Comparing with BGD, we can see that there is little variation, not a lot. The intercept is very close, and all \n",
    "# the weights are 3~6 decimal places, and the two methods both show that population is the factor that influence \n",
    "# price the most. The difference might be result from the different method of gradient decent. BGD use all the samples\n",
    "# from the training set, while SGD only randomly use a subset of it. SGD converges much faster, but the cost function \n",
    "# might not be as minimized as BGD."
   ]
  },
  {
   "cell_type": "code",
   "execution_count": 19,
   "id": "dfe4131a",
   "metadata": {},
   "outputs": [],
   "source": [
    "#Question5.\n",
    "def Mean(matrix):\n",
    "    for i in range(matrix.shape[1]):\n",
    "        mean_matrix=matrix.mean(axis=0) #calculate each column mean and append to the new matrix as column\n",
    "        matrix[:,i]=mean_matrix[i]\n",
    "    return matrix"
   ]
  },
  {
   "cell_type": "code",
   "execution_count": 22,
   "id": "2a79ae85",
   "metadata": {},
   "outputs": [
    {
     "name": "stdout",
     "output_type": "stream",
     "text": [
      "[[ 7.44928083e+04 -5.87414892e+04  3.17132271e+04 -1.15284490e+03\n",
      "   2.14665811e+05  7.64239253e+03 -6.68414144e+03 -1.19220569e+03]\n",
      " [-5.87414892e+04  3.26914042e+06 -9.85075210e+04 -9.57068430e+03\n",
      "  -8.71434425e+07  3.55877856e+04  6.19883093e+03 -5.63082209e+04]\n",
      " [ 3.17132271e+04 -9.85075210e+04  1.26342314e+05  2.05124375e+04\n",
      "  -4.17596549e+06 -2.57345350e+03  1.16039779e+04 -2.81760265e+03]\n",
      " [-1.15284490e+03 -9.57068430e+03  2.05124375e+04  4.63534397e+03\n",
      "  -7.33246403e+05 -6.27926172e+02  1.45660332e+03  2.61505150e+02]\n",
      " [ 2.14665811e+05 -8.71434425e+07 -4.17596549e+06 -7.33246403e+05\n",
      "   2.64689078e+10  1.69593140e+07 -5.43090134e+06  4.67221221e+06]\n",
      " [ 7.64239253e+03  3.55877856e+04 -2.57345350e+03 -6.27926172e+02\n",
      "   1.69593140e+07  2.22632946e+06  1.08337499e+03  1.06329482e+03]\n",
      " [-6.68414144e+03  6.19883093e+03  1.16039779e+04  1.45660332e+03\n",
      "  -5.43090134e+06  1.08337499e+03  9.41611579e+04 -8.16696318e+04]\n",
      " [-1.19220569e+03 -5.63082209e+04 -2.81760265e+03  2.61505150e+02\n",
      "   4.67221221e+06  1.06329482e+03 -8.16696318e+04  8.28478224e+04]]\n"
     ]
    }
   ],
   "source": [
    "\n",
    "A = DF[['MedInc','HouseAge','AveRooms','AveBedrms','Population','AveOccup','Latitude','Longitude']].values \n",
    "B = DF[['MedInc','HouseAge','AveRooms','AveBedrms','Population','AveOccup','Latitude','Longitude']].values \n",
    "mean=Mean(A)\n",
    "pre_cov = np.dot((B - mean).T, (B - mean))\n",
    "print(pre_cov)"
   ]
  },
  {
   "cell_type": "code",
   "execution_count": 23,
   "id": "9db53bb1",
   "metadata": {},
   "outputs": [
    {
     "data": {
      "text/plain": [
       "array([[ 3.60914769e+00, -2.84600238e+00,  1.53649356e+00,\n",
       "        -5.58548886e-02,  1.04004753e+01,  3.70270956e-01,\n",
       "        -3.23844062e-01, -5.77619034e-02],\n",
       "       [-2.84600238e+00,  1.58388586e+02, -4.77265121e+00,\n",
       "        -4.63695945e-01, -4.22206601e+03,  1.72421442e+00,\n",
       "         3.00330956e-01, -2.72811148e+00],\n",
       "       [ 1.53649356e+00, -4.77265121e+00,  6.12123614e+00,\n",
       "         9.93819648e-01, -2.02323909e+02, -1.24682825e-01,\n",
       "         5.62208233e-01, -1.36511756e-01],\n",
       "       [-5.58548886e-02, -4.63695945e-01,  9.93819648e-01,\n",
       "         2.24580619e-01, -3.55255040e+01, -3.04227797e-02,\n",
       "         7.05718662e-02,  1.26698232e-02],\n",
       "       [ 1.04004753e+01, -4.22206601e+03, -2.02323909e+02,\n",
       "        -3.55255040e+01,  1.28240832e+06,  8.21672190e+02,\n",
       "        -2.63125065e+02,  2.26366871e+02],\n",
       "       [ 3.70270956e-01,  1.72421442e+00, -1.24682825e-01,\n",
       "        -3.04227797e-02,  8.21672190e+02,  1.07864799e+02,\n",
       "         5.24890984e-02,  5.15162217e-02],\n",
       "       [-3.23844062e-01,  3.00330956e-01,  5.62208233e-01,\n",
       "         7.05718662e-02, -2.63125065e+02,  5.24890984e-02,\n",
       "         4.56207160e+00, -3.95686200e+00],\n",
       "       [-5.77619034e-02, -2.72811148e+00, -1.36511756e-01,\n",
       "         1.26698232e-02,  2.26366871e+02,  5.15162217e-02,\n",
       "        -3.95686200e+00,  4.01394488e+00]])"
      ]
     },
     "execution_count": 23,
     "metadata": {},
     "output_type": "execute_result"
    }
   ],
   "source": [
    "cov=pre_cov/(Y.shape[0])\n",
    "cov"
   ]
  },
  {
   "cell_type": "code",
   "execution_count": null,
   "id": "54ac8eb0",
   "metadata": {},
   "outputs": [],
   "source": []
  }
 ],
 "metadata": {
  "kernelspec": {
   "display_name": "Python 3",
   "language": "python",
   "name": "python3"
  },
  "language_info": {
   "codemirror_mode": {
    "name": "ipython",
    "version": 3
   },
   "file_extension": ".py",
   "mimetype": "text/x-python",
   "name": "python",
   "nbconvert_exporter": "python",
   "pygments_lexer": "ipython3",
   "version": "3.8.8"
  }
 },
 "nbformat": 4,
 "nbformat_minor": 5
}
